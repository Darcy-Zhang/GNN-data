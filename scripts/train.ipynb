{
 "cells": [
  {
   "cell_type": "code",
   "execution_count": null,
   "metadata": {},
   "outputs": [],
   "source": [
    "from model import Att_Gnn\n",
    "from dataset import AttDataset\n",
    "from torch_geometric.loader import DataLoader\n",
    "from loss import weighted_loss\n",
    "import torch\n",
    "\n",
    "dataset = AttDataset(root='./data')\n",
    "data_iter = DataLoader(dataset)\n",
    "\n",
    "device = torch.device('cuda' if torch.cuda.is_available() else 'cpu')\n",
    "model = Att_Gnn().to(device)\n",
    "optimizer = torch.optim.RAdam(model.parameters(), betas=(0.9, 0.999), eps=1.0e-4, lr=1.0e-3, weight_decay=1.0e-4)\n",
    "loss_func = weighted_loss(dataset[0].edge_index, 0.5)"
   ]
  },
  {
   "cell_type": "code",
   "execution_count": null,
   "metadata": {},
   "outputs": [],
   "source": [
    "model.train()\n",
    "\n",
    "for epoch in range(10):\n",
    "    print(\"epoch: {}\".format(epoch))\n",
    "    for data in data_iter:\n",
    "        data.to(device)\n",
    "        optimizer.zero_grad()\n",
    "        out = model(data)\n",
    "        loss = loss_func(out, data)\n",
    "        loss.requires_grad_(True)\n",
    "        loss.backward()\n",
    "        optimizer.step()\n",
    "        print(loss)\n",
    "\n",
    "torch.save(model, './models/gnn-model.pkl')"
   ]
  },
  {
   "cell_type": "code",
   "execution_count": 3,
   "metadata": {},
   "outputs": [],
   "source": [
    "import torch"
   ]
  }
 ],
 "metadata": {
  "kernelspec": {
   "display_name": "myconda",
   "language": "python",
   "name": "myconda"
  },
  "language_info": {
   "codemirror_mode": {
    "name": "ipython",
    "version": 3
   },
   "file_extension": ".py",
   "mimetype": "text/x-python",
   "name": "python",
   "nbconvert_exporter": "python",
   "pygments_lexer": "ipython3",
   "version": "3.8.12"
  },
  "orig_nbformat": 4,
  "vscode": {
   "interpreter": {
    "hash": "0c61c7e70abdc191c04ccd6f6f9fbe1bf9c4f458551ead8250184168ad6fc034"
   }
  }
 },
 "nbformat": 4,
 "nbformat_minor": 2
}
